{
 "cells": [
  {
   "cell_type": "code",
   "execution_count": 1,
   "metadata": {},
   "outputs": [],
   "source": [
    "from sentinelsat import SentinelAPI, read_geojson, geojson_to_wkt \n",
    "\n",
    "user = 'demi12395' \n",
    "password = 'Sutd1234' \n",
    "\n",
    "api = SentinelAPI(user, password, 'https://scihub.copernicus.eu/dhus')"
   ]
  },
  {
   "cell_type": "code",
   "execution_count": 9,
   "metadata": {},
   "outputs": [
    {
     "name": "stderr",
     "output_type": "stream",
     "text": [
      "  0%|                                                                                            | 0/2 [00:00<?, ?it/s]"
     ]
    },
    {
     "name": "stdout",
     "output_type": "stream",
     "text": [
      "ATL\n"
     ]
    },
    {
     "name": "stderr",
     "output_type": "stream",
     "text": [
      " 50%|██████████████████████████████████████████                                          | 1/2 [00:22<00:22, 22.32s/it]"
     ]
    },
    {
     "name": "stdout",
     "output_type": "stream",
     "text": [
      "PEK\n"
     ]
    },
    {
     "name": "stderr",
     "output_type": "stream",
     "text": [
      "100%|████████████████████████████████████████████████████████████████████████████████████| 2/2 [00:49<00:00, 24.96s/it]\n"
     ]
    }
   ],
   "source": [
    "import requests\n",
    "from six.moves.urllib.parse import urljoin\n",
    "from tqdm import tqdm\n",
    "downURLs = []\n",
    "downName = []\n",
    "iata = ['ATL','PEK']\n",
    "\n",
    "\n",
    "# connect to the api\n",
    "api_session = requests.Session()\n",
    "api_session.auth = (\"demi12395\", \"Sutd1234\")\n",
    "api_url = \"https://scihub.copernicus.eu/apihub/odata/v1/\"\n",
    "\n",
    "# product UUID you want to download a single band for\n",
    "prod_id = ['4ca5881e-85d8-4132-b318-986ee5dacfaa','c7a409d8-cb05-4a39-899e-dd466543aa0d']\n",
    "\n",
    "for ids,ia in tqdm(zip(prod_id,iata),total=len(iata)):\n",
    "    print(ia)\n",
    "    # parse the product name\n",
    "    nodes = api_session.get(urljoin(api_url, \"Products('%s')/Nodes?$format=json\" % ids)).json()\n",
    "    prod_name = nodes[\"d\"][\"results\"][0][\"Id\"]\n",
    "#     print('prod_name {}'.format(prod_name))\n",
    "\n",
    "    # parse the granule id\n",
    "    granules = api_session.get(urljoin(api_url, \"Products('%s')/Nodes('%s')/Nodes('GRANULE')/Nodes?$format=json\" % (ids, prod_name))).json()\n",
    "    granules[\"d\"][\"results\"][0].keys()\n",
    "    gran_id = granules[\"d\"][\"results\"][0][\"Id\"]\n",
    "#     print('granule {}'.format(gran_id))\n",
    "\n",
    "\n",
    "\n",
    "    # parse the band names\n",
    "    bands = api_session.get(urljoin(api_url, \"Products('%s')/Nodes('%s')/Nodes('GRANULE')/Nodes('%s')/Nodes('IMG_DATA')/Nodes?$format=json\" % (ids, prod_name, gran_id))).json()\n",
    "    band_id = bands[\"d\"][\"results\"][0][\"Id\"]  # element 3 is band 4, element 0 band 1\n",
    "#     print('band {}'.format(band_id))\n",
    "\n",
    "\n",
    "    # construct the final image url\n",
    "    TCI_url = api_session.get(urljoin(api_url, \"Products('%s')/Nodes('%s')/Nodes('GRANULE')/Nodes('%s')/Nodes('IMG_DATA')/Nodes('%s')/Nodes?$format=json\" % (ids, prod_name, gran_id, band_id))).json()\n",
    "    TCI_id = TCI_url[\"d\"][\"results\"][5][\"Id\"]\n",
    "#     print('TCI_ID {}'.format(TCI_id))\n",
    "\n",
    "\n",
    "    img_url = urljoin(api_url, \"Products('%s')/Nodes('%s')/Nodes('GRANULE')/Nodes('%s')/Nodes('IMG_DATA')/Nodes('%s')/Nodes('%s')/$value\" % (ids, prod_name, gran_id, band_id,TCI_id))\n",
    "    downURLs.append(img_url)\n",
    "    downName.append(TCI_id)"
   ]
  },
  {
   "cell_type": "code",
   "execution_count": 10,
   "metadata": {},
   "outputs": [
    {
     "name": "stderr",
     "output_type": "stream",
     "text": [
      "100%|████████████████████████████████████████████████████████████████████████████████████| 2/2 [00:53<00:00, 26.68s/it]\n"
     ]
    }
   ],
   "source": [
    "for names,urls,ia in tqdm(zip(downName,downURLs,iata),total = len(iata)):\n",
    "    \n",
    "    r = requests.get(urls,auth = (user,password))\n",
    "    with open(str(ia) + \"_\" + str(names),'wb') as f: \n",
    "  \n",
    "    # Saving received content as a png file in \n",
    "    # binary format \n",
    "  \n",
    "    # write the contents of the response (r.content) \n",
    "    # to a new file in binary mode. \n",
    "        f.write(r.content) \n",
    "    f.close()"
   ]
  },
  {
   "cell_type": "code",
   "execution_count": 48,
   "metadata": {},
   "outputs": [],
   "source": []
  },
  {
   "cell_type": "code",
   "execution_count": 36,
   "metadata": {},
   "outputs": [
    {
     "data": {
      "text/plain": [
       "'T16SGC_20201210T162659_TCI_10m.jp2'"
      ]
     },
     "execution_count": 36,
     "metadata": {},
     "output_type": "execute_result"
    }
   ],
   "source": [
    "img_url[\"d\"][\"results\"][5][\"Id\"]"
   ]
  },
  {
   "cell_type": "code",
   "execution_count": 22,
   "metadata": {},
   "outputs": [
    {
     "data": {
      "text/plain": [
       "'R10m'"
      ]
     },
     "execution_count": 22,
     "metadata": {},
     "output_type": "execute_result"
    }
   ],
   "source": [
    "bands['d']['results'][0]['Id']"
   ]
  },
  {
   "cell_type": "code",
   "execution_count": 8,
   "metadata": {},
   "outputs": [
    {
     "name": "stderr",
     "output_type": "stream",
     "text": [
      " 37%|██████████████████████████████▌                                                    | 7/19 [00:08<00:13,  1.15s/it]\n"
     ]
    },
    {
     "ename": "KeyboardInterrupt",
     "evalue": "",
     "output_type": "error",
     "traceback": [
      "\u001b[1;31m---------------------------------------------------------------------------\u001b[0m",
      "\u001b[1;31mKeyboardInterrupt\u001b[0m                         Traceback (most recent call last)",
      "\u001b[1;32m<ipython-input-8-64b7c49bcba4>\u001b[0m in \u001b[0;36m<module>\u001b[1;34m()\u001b[0m\n\u001b[0;32m      2\u001b[0m \u001b[1;32mimport\u001b[0m \u001b[0mtime\u001b[0m\u001b[1;33m\u001b[0m\u001b[1;33m\u001b[0m\u001b[0m\n\u001b[0;32m      3\u001b[0m \u001b[1;32mfor\u001b[0m \u001b[0mi\u001b[0m \u001b[1;32min\u001b[0m \u001b[0mtqdm\u001b[0m\u001b[1;33m(\u001b[0m\u001b[0mrange\u001b[0m\u001b[1;33m(\u001b[0m\u001b[1;36m0\u001b[0m\u001b[1;33m,\u001b[0m\u001b[1;36m19\u001b[0m\u001b[1;33m)\u001b[0m\u001b[1;33m)\u001b[0m\u001b[1;33m:\u001b[0m\u001b[1;33m\u001b[0m\u001b[1;33m\u001b[0m\u001b[0m\n\u001b[1;32m----> 4\u001b[1;33m     \u001b[0mtime\u001b[0m\u001b[1;33m.\u001b[0m\u001b[0msleep\u001b[0m\u001b[1;33m(\u001b[0m\u001b[1;36m1\u001b[0m\u001b[1;33m)\u001b[0m\u001b[1;33m\u001b[0m\u001b[1;33m\u001b[0m\u001b[0m\n\u001b[0m",
      "\u001b[1;31mKeyboardInterrupt\u001b[0m: "
     ]
    }
   ],
   "source": [
    "from tqdm import tqdm\n",
    "import time\n",
    "for i in tqdm(range(0,19)):\n",
    "    time.sleep(1)"
   ]
  },
  {
   "cell_type": "code",
   "execution_count": null,
   "metadata": {},
   "outputs": [],
   "source": []
  }
 ],
 "metadata": {
  "kernelspec": {
   "display_name": "fastai v1",
   "language": "python",
   "name": "fastai_v1"
  },
  "language_info": {
   "codemirror_mode": {
    "name": "ipython",
    "version": 3
   },
   "file_extension": ".py",
   "mimetype": "text/x-python",
   "name": "python",
   "nbconvert_exporter": "python",
   "pygments_lexer": "ipython3",
   "version": "3.7.9"
  }
 },
 "nbformat": 4,
 "nbformat_minor": 4
}
